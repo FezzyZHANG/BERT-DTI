{
 "cells": [
  {
   "cell_type": "code",
   "execution_count": 2,
   "metadata": {},
   "outputs": [],
   "source": [
    "import os\n",
    "import pandas as pd\n",
    "\n",
    "davis = './dataset_kd/DAVIS'\n",
    "bindingDB = './dataset_kd/BindingDB'\n",
    "\n",
    "train = '/train.csv'\n",
    "valid = '/valid.csv'\n",
    "test = '/test.csv'\n",
    "\n",
    "def merge_data(data_type:str, datafolder1:str = davis, datafolder2:str = bindingDB):\n",
    "    df_data1 = pd.read_csv(datafolder1+data_type)\n",
    "    df_data2 = pd.read_csv(datafolder2+data_type)\n",
    "\n",
    "    df_merge = pd.concat([df_data1, df_data2])\n",
    "\n",
    "    return df_merge"
   ]
  },
  {
   "cell_type": "code",
   "execution_count": 3,
   "metadata": {},
   "outputs": [],
   "source": [
    "df_train = merge_data(train)\n",
    "df_valid = merge_data(valid)\n",
    "df_test = merge_data(test)\n",
    "\n"
   ]
  },
  {
   "cell_type": "code",
   "execution_count": 4,
   "metadata": {},
   "outputs": [],
   "source": [
    "dataPath = \"./dataset_kd/MergeDataset\"\n",
    "\n",
    "df_train.to_csv(dataPath+train, mode='w', index=False)\n",
    "df_valid.to_csv(dataPath+valid, mode='w', index=False)\n",
    "df_test.to_csv(dataPath+test, mode='w', index=False)"
   ]
  }
 ],
 "metadata": {
  "kernelspec": {
   "display_name": "lightning",
   "language": "python",
   "name": "python3"
  },
  "language_info": {
   "codemirror_mode": {
    "name": "ipython",
    "version": 3
   },
   "file_extension": ".py",
   "mimetype": "text/x-python",
   "name": "python",
   "nbconvert_exporter": "python",
   "pygments_lexer": "ipython3",
   "version": "3.8.16"
  },
  "orig_nbformat": 4
 },
 "nbformat": 4,
 "nbformat_minor": 2
}
